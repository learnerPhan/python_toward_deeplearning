{
 "cells": [
  {
   "cell_type": "markdown",
   "metadata": {
    "tags": [
     "pdf-title"
    ]
   },
   "source": [
    "# Fully-Connected Neural Nets\n",
    "In the previous homework you implemented a fully-connected two-layer neural network on CIFAR-10. The implementation was simple but not very modular since the loss and gradient were computed in a single monolithic function. This is manageable for a simple two-layer network, but would become impractical as we move to bigger models. Ideally we want to build networks using a more modular design so that we can implement different layer types in isolation and then snap them together into models with different architectures."
   ]
  },
  {
   "cell_type": "markdown",
   "metadata": {
    "tags": [
     "pdf-ignore"
    ]
   },
   "source": [
    "In this exercise we will implement fully-connected networks using a more modular approach. For each layer we will implement a `forward` and a `backward` function. The `forward` function will receive inputs, weights, and other parameters and will return both an output and a `cache` object storing data needed for the backward pass, like this:\n",
    "\n",
    "```python\n",
    "def layer_forward(x, w):\n",
    "  \"\"\" Receive inputs x and weights w \"\"\"\n",
    "  # Do some computations ...\n",
    "  z = # ... some intermediate value\n",
    "  # Do some more computations ...\n",
    "  out = # the output\n",
    "   \n",
    "  cache = (x, w, z, out) # Values we need to compute gradients\n",
    "   \n",
    "  return out, cache\n",
    "```\n",
    "\n",
    "The backward pass will receive upstream derivatives and the `cache` object, and will return gradients with respect to the inputs and weights, like this:\n",
    "\n",
    "```python\n",
    "def layer_backward(dout, cache):\n",
    "  \"\"\"\n",
    "  Receive dout (derivative of loss with respect to outputs) and cache,\n",
    "  and compute derivative with respect to inputs.\n",
    "  \"\"\"\n",
    "  # Unpack cache values\n",
    "  x, w, z, out = cache\n",
    "  \n",
    "  # Use values in cache to compute derivatives\n",
    "  dx = # Derivative of loss with respect to x\n",
    "  dw = # Derivative of loss with respect to w\n",
    "  \n",
    "  return dx, dw\n",
    "```\n",
    "\n",
    "After implementing a bunch of layers this way, we will be able to easily combine them to build classifiers with different architectures.\n",
    "\n",
    "In addition to implementing fully-connected networks of arbitrary depth, we will also explore different update rules for optimization, and introduce Dropout as a regularizer and Batch/Layer Normalization as a tool to more efficiently optimize deep networks.\n",
    "  "
   ]
  },
  {
   "cell_type": "code",
   "execution_count": 1,
   "metadata": {
    "tags": [
     "pdf-ignore"
    ]
   },
   "outputs": [],
   "source": [
    "# As usual, a bit of setup\n",
    "from __future__ import print_function\n",
    "import time\n",
    "import numpy as np\n",
    "import matplotlib.pyplot as plt\n",
    "from cs231n.classifiers.fc_net import *\n",
    "from cs231n.data_utils import get_CIFAR10_data\n",
    "from cs231n.gradient_check import eval_numerical_gradient, eval_numerical_gradient_array\n",
    "from cs231n.solver import Solver\n",
    "\n",
    "%matplotlib inline\n",
    "plt.rcParams['figure.figsize'] = (10.0, 8.0) # set default size of plots\n",
    "plt.rcParams['image.interpolation'] = 'nearest'\n",
    "plt.rcParams['image.cmap'] = 'gray'\n",
    "\n",
    "# for auto-reloading external modules\n",
    "# see http://stackoverflow.com/questions/1907993/autoreload-of-modules-in-ipython\n",
    "%load_ext autoreload\n",
    "%autoreload 2\n",
    "\n",
    "def rel_error(x, y):\n",
    "  \"\"\" returns relative error \"\"\"\n",
    "  return np.max(np.abs(x - y) / (np.maximum(1e-8, np.abs(x) + np.abs(y))))"
   ]
  },
  {
   "cell_type": "code",
   "execution_count": 2,
   "metadata": {
    "tags": [
     "pdf-ignore"
    ]
   },
   "outputs": [
    {
     "name": "stdout",
     "output_type": "stream",
     "text": [
      "('X_train: ', (49000, 3, 32, 32))\n",
      "('y_train: ', (49000,))\n",
      "('X_val: ', (1000, 3, 32, 32))\n",
      "('y_val: ', (1000,))\n",
      "('X_test: ', (1000, 3, 32, 32))\n",
      "('y_test: ', (1000,))\n"
     ]
    }
   ],
   "source": [
    "# Load the (preprocessed) CIFAR10 data.\n",
    "\n",
    "data = get_CIFAR10_data()\n",
    "\n",
    "for k, v in list(data.items()):\n",
    "  print(('%s: ' % k, v.shape))\n"
   ]
  },
  {
   "cell_type": "markdown",
   "metadata": {},
   "source": [
    "# Affine layer: foward\n",
    "Open the file `cs231n/layers.py` and implement the `affine_forward` function.\n",
    "\n",
    "Once you are done you can test your implementaion by running the following:"
   ]
  },
  {
   "cell_type": "code",
   "execution_count": 3,
   "metadata": {},
   "outputs": [
    {
     "name": "stdout",
     "output_type": "stream",
     "text": [
      "Testing affine_forward function:\n",
      "difference:  9.7698500479884e-10\n"
     ]
    }
   ],
   "source": [
    "# Test the affine_forward function\n",
    "\n",
    "num_inputs = 2\n",
    "input_shape = (4, 5, 6)\n",
    "output_dim = 3\n",
    "\n",
    "input_size = num_inputs * np.prod(input_shape)\n",
    "weight_size = output_dim * np.prod(input_shape)\n",
    "\n",
    "x = np.linspace(-0.1, 0.5, num=input_size).reshape(num_inputs, *input_shape)\n",
    "w = np.linspace(-0.2, 0.3, num=weight_size).reshape(np.prod(input_shape), output_dim)\n",
    "b = np.linspace(-0.3, 0.1, num=output_dim)\n",
    "\n",
    "x = x.reshape(num_inputs, -1)\n",
    "out, _ = affine_forward(x, w, b)\n",
    "correct_out = np.array([[ 1.49834967,  1.70660132,  1.91485297],\n",
    "                        [ 3.25553199,  3.5141327,   3.77273342]])\n",
    "\n",
    "# Compare your output with ours. The error should be around e-9 or less.\n",
    "print('Testing affine_forward function:')\n",
    "print('difference: ', rel_error(out, correct_out))"
   ]
  },
  {
   "cell_type": "markdown",
   "metadata": {},
   "source": [
    "# Affine layer: backward\n",
    "Now implement the `affine_backward` function and test your implementation using numeric gradient checking."
   ]
  },
  {
   "cell_type": "code",
   "execution_count": 4,
   "metadata": {},
   "outputs": [
    {
     "name": "stdout",
     "output_type": "stream",
     "text": [
      "Testing affine_backward function:\n",
      "dx error:  1.0908199508708189e-10\n",
      "dw error:  2.1752635504596857e-10\n",
      "db error:  7.736978834487815e-12\n"
     ]
    }
   ],
   "source": [
    "# Test the affine_backward function\n",
    "np.random.seed(231)\n",
    "x = np.random.randn(10, 2, 3)\n",
    "w = np.random.randn(6, 5)\n",
    "b = np.random.randn(5)\n",
    "dout = np.random.randn(10, 5)\n",
    "\n",
    "x = x.reshape(10, -1)\n",
    "\n",
    "dx_num = eval_numerical_gradient_array(lambda x: affine_forward(x, w, b)[0], x, dout)\n",
    "dw_num = eval_numerical_gradient_array(lambda w: affine_forward(x, w, b)[0], w, dout)\n",
    "db_num = eval_numerical_gradient_array(lambda b: affine_forward(x, w, b)[0], b, dout)\n",
    "\n",
    "_, cache = affine_forward(x, w, b)\n",
    "dx, dw, db = affine_backward(dout, cache)\n",
    "\n",
    "# The error should be around e-10 or less\n",
    "print('Testing affine_backward function:')\n",
    "print('dx error: ', rel_error(dx_num, dx))\n",
    "print('dw error: ', rel_error(dw_num, dw))\n",
    "print('db error: ', rel_error(db_num, db))"
   ]
  },
  {
   "cell_type": "markdown",
   "metadata": {},
   "source": [
    "# ReLU activation: forward\n",
    "Implement the forward pass for the ReLU activation function in the `relu_forward` function and test your implementation using the following:"
   ]
  },
  {
   "cell_type": "code",
   "execution_count": 5,
   "metadata": {},
   "outputs": [
    {
     "name": "stdout",
     "output_type": "stream",
     "text": [
      "Testing relu_forward function:\n",
      "difference:  4.999999798022158e-08\n"
     ]
    }
   ],
   "source": [
    "# Test the relu_forward function\n",
    "\n",
    "x = np.linspace(-0.5, 0.5, num=12).reshape(3, 4)\n",
    "\n",
    "out, _ = relu_forward(x)\n",
    "correct_out = np.array([[ 0.,          0.,          0.,          0.,        ],\n",
    "                        [ 0.,          0.,          0.04545455,  0.13636364,],\n",
    "                        [ 0.22727273,  0.31818182,  0.40909091,  0.5,       ]])\n",
    "\n",
    "# Compare your output with ours. The error should be on the order of e-8\n",
    "print('Testing relu_forward function:')\n",
    "print('difference: ', rel_error(out, correct_out))"
   ]
  },
  {
   "cell_type": "markdown",
   "metadata": {},
   "source": [
    "# ReLU activation: backward\n",
    "Now implement the backward pass for the ReLU activation function in the `relu_backward` function and test your implementation using numeric gradient checking:"
   ]
  },
  {
   "cell_type": "code",
   "execution_count": 6,
   "metadata": {},
   "outputs": [
    {
     "name": "stdout",
     "output_type": "stream",
     "text": [
      "Testing relu_backward function:\n",
      "dx error:  3.2756349136310288e-12\n"
     ]
    }
   ],
   "source": [
    "np.random.seed(231)\n",
    "x = np.random.randn(10, 10)\n",
    "dout = np.random.randn(*x.shape)\n",
    "\n",
    "dx_num = eval_numerical_gradient_array(lambda x: relu_forward(x)[0], x, dout)\n",
    "\n",
    "_, cache = relu_forward(x)\n",
    "dx = relu_backward(dout, cache)\n",
    "\n",
    "# The error should be on the order of e-12\n",
    "print('Testing relu_backward function:')\n",
    "print('dx error: ', rel_error(dx_num, dx))"
   ]
  },
  {
   "cell_type": "markdown",
   "metadata": {
    "tags": [
     "pdf-inline"
    ]
   },
   "source": [
    "## Inline Question 1: \n",
    "\n",
    "We've only asked you to implement ReLU, but there are a number of different activation functions that one could use in neural networks, each with its pros and cons. In particular, an issue commonly seen with activation functions is getting zero (or close to zero) gradient flow during backpropagation. Which of the following activation functions have this problem? If you consider these functions in the one dimensional case, what types of input would lead to this behaviour?\n",
    "1. Sigmoid\n",
    "2. ReLU\n",
    "3. Leaky ReLU\n",
    "\n",
    "## Answer:\n",
    "[FILL THIS IN]\n"
   ]
  },
  {
   "cell_type": "markdown",
   "metadata": {},
   "source": [
    "# \"Sandwich\" layers\n",
    "There are some common patterns of layers that are frequently used in neural nets. For example, affine layers are frequently followed by a ReLU nonlinearity. To make these common patterns easy, we define several convenience layers in the file `cs231n/layer_utils.py`.\n",
    "\n",
    "For now take a look at the `affine_relu_forward` and `affine_relu_backward` functions, and run the following to numerically gradient check the backward pass:"
   ]
  },
  {
   "cell_type": "code",
   "execution_count": 7,
   "metadata": {},
   "outputs": [
    {
     "name": "stdout",
     "output_type": "stream",
     "text": [
      "Testing affine_relu_forward and affine_relu_backward:\n",
      "dx error:  6.395535042049294e-11\n",
      "dw error:  8.162011105764925e-11\n",
      "db error:  7.826724021458994e-12\n"
     ]
    }
   ],
   "source": [
    "from cs231n.layer_utils import affine_relu_forward, affine_relu_backward\n",
    "np.random.seed(231)\n",
    "x = np.random.randn(2, 3, 4)\n",
    "w = np.random.randn(12, 10)\n",
    "b = np.random.randn(10)\n",
    "dout = np.random.randn(2, 10)\n",
    "\n",
    "x = x.reshape(2, -1)\n",
    "\n",
    "out, cache = affine_relu_forward(x, w, b)\n",
    "dx, dw, db = affine_relu_backward(dout, cache)\n",
    "\n",
    "dx_num = eval_numerical_gradient_array(lambda x: affine_relu_forward(x, w, b)[0], x, dout)\n",
    "dw_num = eval_numerical_gradient_array(lambda w: affine_relu_forward(x, w, b)[0], w, dout)\n",
    "db_num = eval_numerical_gradient_array(lambda b: affine_relu_forward(x, w, b)[0], b, dout)\n",
    "\n",
    "# Relative error should be around e-10 or less\n",
    "print('Testing affine_relu_forward and affine_relu_backward:')\n",
    "print('dx error: ', rel_error(dx_num, dx))\n",
    "print('dw error: ', rel_error(dw_num, dw))\n",
    "print('db error: ', rel_error(db_num, db))"
   ]
  },
  {
   "cell_type": "markdown",
   "metadata": {},
   "source": [
    "# Loss layers: Softmax and SVM\n",
    "You implemented these loss functions in the last assignment, so we'll give them to you for free here. You should still make sure you understand how they work by looking at the implementations in `cs231n/layers.py`.\n",
    "\n",
    "You can make sure that the implementations are correct by running the following:"
   ]
  },
  {
   "cell_type": "code",
   "execution_count": 8,
   "metadata": {},
   "outputs": [
    {
     "name": "stdout",
     "output_type": "stream",
     "text": [
      "Testing svm_loss:\n",
      "loss:  8.999602749096233\n",
      "dx error:  1.4021566006651672e-09\n",
      "\n",
      "Testing softmax_loss:\n",
      "loss:  2.302545844500738\n",
      "dx error:  9.384673161989355e-09\n"
     ]
    }
   ],
   "source": [
    "np.random.seed(231)\n",
    "num_classes, num_inputs = 10, 50\n",
    "x = 0.001 * np.random.randn(num_inputs, num_classes)\n",
    "y = np.random.randint(num_classes, size=num_inputs)\n",
    "\n",
    "dx_num = eval_numerical_gradient(lambda x: svm_loss(x, y)[0], x, verbose=False)\n",
    "loss, dx = svm_loss(x, y)\n",
    "\n",
    "# Test svm_loss function. Loss should be around 9 and dx error should be around the order of e-9\n",
    "print('Testing svm_loss:')\n",
    "print('loss: ', loss)\n",
    "print('dx error: ', rel_error(dx_num, dx))\n",
    "\n",
    "dx_num = eval_numerical_gradient(lambda x: softmax_loss(x, y)[0], x, verbose=False)\n",
    "loss, dx = softmax_loss(x, y)\n",
    "\n",
    "# Test softmax_loss function. Loss should be close to 2.3 and dx error should be around e-8\n",
    "print('\\nTesting softmax_loss:')\n",
    "print('loss: ', loss)\n",
    "print('dx error: ', rel_error(dx_num, dx))"
   ]
  },
  {
   "cell_type": "markdown",
   "metadata": {},
   "source": [
    "# Two-layer network\n",
    "In the previous assignment you implemented a two-layer neural network in a single monolithic class. Now that you have implemented modular versions of the necessary layers, you will reimplement the two layer network using these modular implementations.\n",
    "\n",
    "Open the file `cs231n/classifiers/fc_net.py` and complete the implementation of the `TwoLayerNet` class. This class will serve as a model for the other networks you will implement in this assignment, so read through it to make sure you understand the API. You can run the cell below to test your implementation."
   ]
  },
  {
   "cell_type": "code",
   "execution_count": 9,
   "metadata": {
    "scrolled": true
   },
   "outputs": [
    {
     "name": "stdout",
     "output_type": "stream",
     "text": [
      "Testing initialization ... \n",
      "Testing test-time forward pass ... \n",
      "Testing training loss (no regularization)\n",
      "Running numeric gradient check with reg =  0.0\n",
      "W1 relative error: 1.22e-08\n",
      "W2 relative error: 3.34e-10\n",
      "b1 relative error: 4.73e-09\n",
      "b2 relative error: 4.33e-10\n",
      "Running numeric gradient check with reg =  0.7\n",
      "W1 relative error: 2.53e-07\n",
      "W2 relative error: 1.37e-07\n",
      "b1 relative error: 1.56e-08\n",
      "b2 relative error: 9.09e-10\n"
     ]
    }
   ],
   "source": [
    "np.random.seed(231)\n",
    "N, D, H, C = 3, 5, 50, 7\n",
    "X = np.random.randn(N, D)\n",
    "y = np.random.randint(C, size=N)\n",
    "\n",
    "std = 1e-3\n",
    "model = TwoLayerNet(input_dim=D, hidden_dim=H, num_classes=C, weight_scale=std)\n",
    "\n",
    "print('Testing initialization ... ')\n",
    "W1_std = abs(model.params['W1'].std() - std)\n",
    "b1 = model.params['b1']\n",
    "W2_std = abs(model.params['W2'].std() - std)\n",
    "b2 = model.params['b2']\n",
    "assert W1_std < std / 10, 'First layer weights do not seem right'\n",
    "assert np.all(b1 == 0), 'First layer biases do not seem right'\n",
    "assert W2_std < std / 10, 'Second layer weights do not seem right'\n",
    "assert np.all(b2 == 0), 'Second layer biases do not seem right'\n",
    "\n",
    "print('Testing test-time forward pass ... ')\n",
    "model.params['W1'] = np.linspace(-0.7, 0.3, num=D*H).reshape(D, H)\n",
    "model.params['b1'] = np.linspace(-0.1, 0.9, num=H)\n",
    "model.params['W2'] = np.linspace(-0.3, 0.4, num=H*C).reshape(H, C)\n",
    "model.params['b2'] = np.linspace(-0.9, 0.1, num=C)\n",
    "X = np.linspace(-5.5, 4.5, num=N*D).reshape(D, N).T\n",
    "scores = model.loss(X)\n",
    "correct_scores = np.asarray(\n",
    "  [[11.53165108,  12.2917344,   13.05181771,  13.81190102,  14.57198434, 15.33206765,  16.09215096],\n",
    "   [12.05769098,  12.74614105,  13.43459113,  14.1230412,   14.81149128, 15.49994135,  16.18839143],\n",
    "   [12.58373087,  13.20054771,  13.81736455,  14.43418138,  15.05099822, 15.66781506,  16.2846319 ]])\n",
    "scores_diff = np.abs(scores - correct_scores).sum()\n",
    "assert scores_diff < 1e-6, 'Problem with test-time forward pass'\n",
    "\n",
    "print('Testing training loss (no regularization)')\n",
    "y = np.asarray([0, 5, 1])\n",
    "loss, grads = model.loss(X, y)\n",
    "correct_loss = 3.4702243556\n",
    "assert abs(loss - correct_loss) < 1e-10, 'Problem with training-time loss'\n",
    "\n",
    "model.reg = 1.0\n",
    "loss, grads = model.loss(X, y)\n",
    "correct_loss = 26.5948426952\n",
    "assert abs(loss - correct_loss) < 1e-10, 'Problem with regularization loss'\n",
    "\n",
    "# Errors should be around e-7 or less\n",
    "for reg in [0.0, 0.7]:\n",
    "  print('Running numeric gradient check with reg = ', reg)\n",
    "  model.reg = reg\n",
    "  loss, grads = model.loss(X, y)\n",
    "\n",
    "  for name in sorted(grads):\n",
    "    f = lambda _: model.loss(X, y)[0]\n",
    "    grad_num = eval_numerical_gradient(f, model.params[name], verbose=False)\n",
    "    print('%s relative error: %.2e' % (name, rel_error(grad_num, grads[name])))"
   ]
  },
  {
   "cell_type": "markdown",
   "metadata": {},
   "source": [
    "# Solver\n",
    "In the previous assignment, the logic for training models was coupled to the models themselves. Following a more modular design, for this assignment we have split the logic for training models into a separate class.\n",
    "\n",
    "Open the file `cs231n/solver.py` and read through it to familiarize yourself with the API. After doing so, use a `Solver` instance to train a `TwoLayerNet` that achieves at least `50%` accuracy on the validation set."
   ]
  },
  {
   "cell_type": "code",
   "execution_count": 10,
   "metadata": {},
   "outputs": [
    {
     "name": "stdout",
     "output_type": "stream",
     "text": [
      "Train data shape:  (49000, 3072)\n",
      "Train labels shape:  (49000,)\n",
      "Validation data shape:  (1000, 3072)\n",
      "Validation labels shape:  (1000,)\n",
      "Test data shape:  (1000, 3072)\n",
      "Test labels shape:  (1000,)\n",
      "(Iteration 1 / 24500) loss: 2.300992\n",
      "(Epoch 0 / 50) train acc: 0.134000; val_acc: 0.127000\n",
      "(Iteration 101 / 24500) loss: 1.984195\n",
      "(Iteration 201 / 24500) loss: 1.680315\n",
      "(Iteration 301 / 24500) loss: 1.450102\n",
      "(Iteration 401 / 24500) loss: 1.490306\n",
      "(Epoch 1 / 50) train acc: 0.471000; val_acc: 0.460000\n",
      "(Iteration 501 / 24500) loss: 1.631136\n",
      "(Iteration 601 / 24500) loss: 1.645113\n",
      "(Iteration 701 / 24500) loss: 1.477200\n",
      "(Iteration 801 / 24500) loss: 1.621397\n",
      "(Iteration 901 / 24500) loss: 1.396863\n",
      "(Epoch 2 / 50) train acc: 0.506000; val_acc: 0.483000\n",
      "(Iteration 1001 / 24500) loss: 1.697729\n",
      "(Iteration 1101 / 24500) loss: 1.495028\n",
      "(Iteration 1201 / 24500) loss: 1.471388\n",
      "(Iteration 1301 / 24500) loss: 1.326375\n",
      "(Iteration 1401 / 24500) loss: 1.547571\n",
      "(Epoch 3 / 50) train acc: 0.498000; val_acc: 0.475000\n",
      "(Iteration 1501 / 24500) loss: 1.425353\n",
      "(Iteration 1601 / 24500) loss: 1.302059\n",
      "(Iteration 1701 / 24500) loss: 1.411844\n",
      "(Iteration 1801 / 24500) loss: 1.422781\n",
      "(Iteration 1901 / 24500) loss: 1.344254\n",
      "(Epoch 4 / 50) train acc: 0.512000; val_acc: 0.481000\n",
      "(Iteration 2001 / 24500) loss: 1.297072\n",
      "(Iteration 2101 / 24500) loss: 1.268397\n",
      "(Iteration 2201 / 24500) loss: 1.170828\n",
      "(Iteration 2301 / 24500) loss: 1.291040\n",
      "(Iteration 2401 / 24500) loss: 1.302555\n",
      "(Epoch 5 / 50) train acc: 0.564000; val_acc: 0.498000\n",
      "(Iteration 2501 / 24500) loss: 1.243696\n",
      "(Iteration 2601 / 24500) loss: 1.178608\n",
      "(Iteration 2701 / 24500) loss: 1.170568\n",
      "(Iteration 2801 / 24500) loss: 1.203216\n",
      "(Iteration 2901 / 24500) loss: 1.091035\n",
      "(Epoch 6 / 50) train acc: 0.585000; val_acc: 0.503000\n",
      "(Iteration 3001 / 24500) loss: 1.336076\n",
      "(Iteration 3101 / 24500) loss: 1.038738\n",
      "(Iteration 3201 / 24500) loss: 1.213784\n",
      "(Iteration 3301 / 24500) loss: 1.306161\n",
      "(Iteration 3401 / 24500) loss: 1.640965\n",
      "(Epoch 7 / 50) train acc: 0.557000; val_acc: 0.488000\n",
      "(Iteration 3501 / 24500) loss: 1.231589\n",
      "(Iteration 3601 / 24500) loss: 1.424279\n",
      "(Iteration 3701 / 24500) loss: 1.199176\n",
      "(Iteration 3801 / 24500) loss: 1.296876\n",
      "(Iteration 3901 / 24500) loss: 1.271119\n",
      "(Epoch 8 / 50) train acc: 0.593000; val_acc: 0.513000\n",
      "(Iteration 4001 / 24500) loss: 1.186451\n",
      "(Iteration 4101 / 24500) loss: 0.865763\n",
      "(Iteration 4201 / 24500) loss: 0.867785\n",
      "(Iteration 4301 / 24500) loss: 1.272465\n",
      "(Iteration 4401 / 24500) loss: 1.138100\n",
      "(Epoch 9 / 50) train acc: 0.609000; val_acc: 0.488000\n",
      "(Iteration 4501 / 24500) loss: 1.297353\n",
      "(Iteration 4601 / 24500) loss: 1.089901\n",
      "(Iteration 4701 / 24500) loss: 1.083296\n",
      "(Iteration 4801 / 24500) loss: 1.004648\n",
      "(Epoch 10 / 50) train acc: 0.601000; val_acc: 0.495000\n",
      "(Iteration 4901 / 24500) loss: 1.201129\n",
      "(Iteration 5001 / 24500) loss: 1.081573\n",
      "(Iteration 5101 / 24500) loss: 0.962528\n",
      "(Iteration 5201 / 24500) loss: 1.258635\n",
      "(Iteration 5301 / 24500) loss: 1.118109\n",
      "(Epoch 11 / 50) train acc: 0.624000; val_acc: 0.517000\n",
      "(Iteration 5401 / 24500) loss: 1.199104\n",
      "(Iteration 5501 / 24500) loss: 1.135924\n",
      "(Iteration 5601 / 24500) loss: 1.142552\n",
      "(Iteration 5701 / 24500) loss: 1.136940\n",
      "(Iteration 5801 / 24500) loss: 1.140916\n",
      "(Epoch 12 / 50) train acc: 0.603000; val_acc: 0.536000\n",
      "(Iteration 5901 / 24500) loss: 1.045829\n",
      "(Iteration 6001 / 24500) loss: 1.089280\n",
      "(Iteration 6101 / 24500) loss: 0.940448\n",
      "(Iteration 6201 / 24500) loss: 1.118131\n",
      "(Iteration 6301 / 24500) loss: 1.132217\n",
      "(Epoch 13 / 50) train acc: 0.649000; val_acc: 0.530000\n",
      "(Iteration 6401 / 24500) loss: 1.005717\n",
      "(Iteration 6501 / 24500) loss: 1.051297\n",
      "(Iteration 6601 / 24500) loss: 1.115557\n",
      "(Iteration 6701 / 24500) loss: 1.084102\n",
      "(Iteration 6801 / 24500) loss: 1.204777\n",
      "(Epoch 14 / 50) train acc: 0.645000; val_acc: 0.516000\n",
      "(Iteration 6901 / 24500) loss: 0.886137\n",
      "(Iteration 7001 / 24500) loss: 1.016382\n",
      "(Iteration 7101 / 24500) loss: 1.086038\n",
      "(Iteration 7201 / 24500) loss: 0.938178\n",
      "(Iteration 7301 / 24500) loss: 0.908809\n",
      "(Epoch 15 / 50) train acc: 0.644000; val_acc: 0.513000\n",
      "(Iteration 7401 / 24500) loss: 1.097686\n",
      "(Iteration 7501 / 24500) loss: 0.891150\n",
      "(Iteration 7601 / 24500) loss: 1.078193\n",
      "(Iteration 7701 / 24500) loss: 1.143447\n",
      "(Iteration 7801 / 24500) loss: 1.097411\n",
      "(Epoch 16 / 50) train acc: 0.645000; val_acc: 0.526000\n",
      "(Iteration 7901 / 24500) loss: 1.077772\n",
      "(Iteration 8001 / 24500) loss: 0.796120\n",
      "(Iteration 8101 / 24500) loss: 0.706388\n",
      "(Iteration 8201 / 24500) loss: 0.906971\n",
      "(Iteration 8301 / 24500) loss: 0.977421\n",
      "(Epoch 17 / 50) train acc: 0.660000; val_acc: 0.519000\n",
      "(Iteration 8401 / 24500) loss: 1.054857\n",
      "(Iteration 8501 / 24500) loss: 0.913601\n",
      "(Iteration 8601 / 24500) loss: 0.945594\n",
      "(Iteration 8701 / 24500) loss: 0.579180\n",
      "(Iteration 8801 / 24500) loss: 0.992919\n",
      "(Epoch 18 / 50) train acc: 0.680000; val_acc: 0.516000\n",
      "(Iteration 8901 / 24500) loss: 0.970948\n",
      "(Iteration 9001 / 24500) loss: 0.988691\n",
      "(Iteration 9101 / 24500) loss: 0.869891\n",
      "(Iteration 9201 / 24500) loss: 0.776783\n",
      "(Iteration 9301 / 24500) loss: 1.069149\n",
      "(Epoch 19 / 50) train acc: 0.663000; val_acc: 0.505000\n",
      "(Iteration 9401 / 24500) loss: 0.987307\n",
      "(Iteration 9501 / 24500) loss: 0.862949\n",
      "(Iteration 9601 / 24500) loss: 0.918237\n",
      "(Iteration 9701 / 24500) loss: 0.650453\n",
      "(Epoch 20 / 50) train acc: 0.679000; val_acc: 0.512000\n",
      "(Iteration 9801 / 24500) loss: 0.772418\n",
      "(Iteration 9901 / 24500) loss: 0.965991\n",
      "(Iteration 10001 / 24500) loss: 0.950228\n",
      "(Iteration 10101 / 24500) loss: 0.860301\n",
      "(Iteration 10201 / 24500) loss: 0.766865\n",
      "(Epoch 21 / 50) train acc: 0.695000; val_acc: 0.515000\n",
      "(Iteration 10301 / 24500) loss: 0.915855\n",
      "(Iteration 10401 / 24500) loss: 0.932081\n",
      "(Iteration 10501 / 24500) loss: 0.655539\n",
      "(Iteration 10601 / 24500) loss: 0.912257\n",
      "(Iteration 10701 / 24500) loss: 0.872340\n",
      "(Epoch 22 / 50) train acc: 0.728000; val_acc: 0.521000\n",
      "(Iteration 10801 / 24500) loss: 0.740591\n",
      "(Iteration 10901 / 24500) loss: 0.961909\n",
      "(Iteration 11001 / 24500) loss: 0.901029\n",
      "(Iteration 11101 / 24500) loss: 1.011489\n",
      "(Iteration 11201 / 24500) loss: 0.786731\n",
      "(Epoch 23 / 50) train acc: 0.723000; val_acc: 0.509000\n",
      "(Iteration 11301 / 24500) loss: 1.047693\n",
      "(Iteration 11401 / 24500) loss: 0.781518\n",
      "(Iteration 11501 / 24500) loss: 0.813366\n",
      "(Iteration 11601 / 24500) loss: 0.873087\n",
      "(Iteration 11701 / 24500) loss: 0.804139\n",
      "(Epoch 24 / 50) train acc: 0.718000; val_acc: 0.492000\n",
      "(Iteration 11801 / 24500) loss: 0.848947\n",
      "(Iteration 11901 / 24500) loss: 0.902346\n",
      "(Iteration 12001 / 24500) loss: 0.881197\n",
      "(Iteration 12101 / 24500) loss: 0.759652\n",
      "(Iteration 12201 / 24500) loss: 1.096501\n",
      "(Epoch 25 / 50) train acc: 0.712000; val_acc: 0.504000\n",
      "(Iteration 12301 / 24500) loss: 0.918602\n",
      "(Iteration 12401 / 24500) loss: 0.750696\n",
      "(Iteration 12501 / 24500) loss: 0.885086\n",
      "(Iteration 12601 / 24500) loss: 0.827415\n",
      "(Iteration 12701 / 24500) loss: 0.703805\n",
      "(Epoch 26 / 50) train acc: 0.724000; val_acc: 0.527000\n",
      "(Iteration 12801 / 24500) loss: 0.856717\n",
      "(Iteration 12901 / 24500) loss: 0.790817\n",
      "(Iteration 13001 / 24500) loss: 0.797817\n",
      "(Iteration 13101 / 24500) loss: 0.863167\n",
      "(Iteration 13201 / 24500) loss: 0.866942\n",
      "(Epoch 27 / 50) train acc: 0.739000; val_acc: 0.518000\n",
      "(Iteration 13301 / 24500) loss: 0.648450\n",
      "(Iteration 13401 / 24500) loss: 0.869644\n",
      "(Iteration 13501 / 24500) loss: 0.871172\n",
      "(Iteration 13601 / 24500) loss: 0.621458\n",
      "(Iteration 13701 / 24500) loss: 0.686513\n",
      "(Epoch 28 / 50) train acc: 0.751000; val_acc: 0.525000\n",
      "(Iteration 13801 / 24500) loss: 0.719957\n",
      "(Iteration 13901 / 24500) loss: 0.836934\n",
      "(Iteration 14001 / 24500) loss: 0.707970\n",
      "(Iteration 14101 / 24500) loss: 0.730877\n",
      "(Iteration 14201 / 24500) loss: 0.686275\n",
      "(Epoch 29 / 50) train acc: 0.742000; val_acc: 0.519000\n",
      "(Iteration 14301 / 24500) loss: 0.795453\n",
      "(Iteration 14401 / 24500) loss: 0.607312\n",
      "(Iteration 14501 / 24500) loss: 0.615974\n",
      "(Iteration 14601 / 24500) loss: 0.650635\n",
      "(Epoch 30 / 50) train acc: 0.741000; val_acc: 0.536000\n",
      "(Iteration 14701 / 24500) loss: 0.856637\n",
      "(Iteration 14801 / 24500) loss: 0.698834\n",
      "(Iteration 14901 / 24500) loss: 0.747634\n",
      "(Iteration 15001 / 24500) loss: 0.801782\n",
      "(Iteration 15101 / 24500) loss: 0.913537\n",
      "(Epoch 31 / 50) train acc: 0.738000; val_acc: 0.527000\n",
      "(Iteration 15201 / 24500) loss: 0.786410\n",
      "(Iteration 15301 / 24500) loss: 0.666940\n",
      "(Iteration 15401 / 24500) loss: 0.653147\n",
      "(Iteration 15501 / 24500) loss: 0.884812\n"
     ]
    },
    {
     "name": "stdout",
     "output_type": "stream",
     "text": [
      "(Iteration 15601 / 24500) loss: 0.827511\n",
      "(Epoch 32 / 50) train acc: 0.761000; val_acc: 0.527000\n",
      "(Iteration 15701 / 24500) loss: 0.894058\n",
      "(Iteration 15801 / 24500) loss: 0.650661\n",
      "(Iteration 15901 / 24500) loss: 0.720721\n",
      "(Iteration 16001 / 24500) loss: 0.824157\n",
      "(Iteration 16101 / 24500) loss: 0.677490\n",
      "(Epoch 33 / 50) train acc: 0.753000; val_acc: 0.508000\n",
      "(Iteration 16201 / 24500) loss: 0.862682\n",
      "(Iteration 16301 / 24500) loss: 0.849150\n",
      "(Iteration 16401 / 24500) loss: 0.697577\n",
      "(Iteration 16501 / 24500) loss: 0.619726\n",
      "(Iteration 16601 / 24500) loss: 0.773474\n",
      "(Epoch 34 / 50) train acc: 0.759000; val_acc: 0.513000\n",
      "(Iteration 16701 / 24500) loss: 0.732994\n",
      "(Iteration 16801 / 24500) loss: 0.675189\n",
      "(Iteration 16901 / 24500) loss: 0.692374\n",
      "(Iteration 17001 / 24500) loss: 0.725965\n",
      "(Iteration 17101 / 24500) loss: 0.531253\n",
      "(Epoch 35 / 50) train acc: 0.760000; val_acc: 0.516000\n",
      "(Iteration 17201 / 24500) loss: 0.880370\n",
      "(Iteration 17301 / 24500) loss: 0.791491\n",
      "(Iteration 17401 / 24500) loss: 0.636778\n",
      "(Iteration 17501 / 24500) loss: 0.724125\n",
      "(Iteration 17601 / 24500) loss: 0.697119\n",
      "(Epoch 36 / 50) train acc: 0.774000; val_acc: 0.520000\n",
      "(Iteration 17701 / 24500) loss: 0.752323\n",
      "(Iteration 17801 / 24500) loss: 0.674559\n",
      "(Iteration 17901 / 24500) loss: 0.714611\n",
      "(Iteration 18001 / 24500) loss: 0.737496\n",
      "(Iteration 18101 / 24500) loss: 0.606061\n",
      "(Epoch 37 / 50) train acc: 0.755000; val_acc: 0.514000\n",
      "(Iteration 18201 / 24500) loss: 0.853747\n",
      "(Iteration 18301 / 24500) loss: 0.710796\n",
      "(Iteration 18401 / 24500) loss: 0.560994\n",
      "(Iteration 18501 / 24500) loss: 0.785790\n",
      "(Iteration 18601 / 24500) loss: 0.692758\n",
      "(Epoch 38 / 50) train acc: 0.764000; val_acc: 0.520000\n",
      "(Iteration 18701 / 24500) loss: 0.577917\n",
      "(Iteration 18801 / 24500) loss: 0.738279\n",
      "(Iteration 18901 / 24500) loss: 0.916978\n",
      "(Iteration 19001 / 24500) loss: 0.687436\n",
      "(Iteration 19101 / 24500) loss: 0.798334\n",
      "(Epoch 39 / 50) train acc: 0.780000; val_acc: 0.511000\n",
      "(Iteration 19201 / 24500) loss: 0.736107\n",
      "(Iteration 19301 / 24500) loss: 0.482879\n",
      "(Iteration 19401 / 24500) loss: 0.697099\n",
      "(Iteration 19501 / 24500) loss: 0.720355\n",
      "(Epoch 40 / 50) train acc: 0.769000; val_acc: 0.519000\n",
      "(Iteration 19601 / 24500) loss: 0.790598\n",
      "(Iteration 19701 / 24500) loss: 0.661813\n",
      "(Iteration 19801 / 24500) loss: 0.875361\n",
      "(Iteration 19901 / 24500) loss: 0.706904\n",
      "(Iteration 20001 / 24500) loss: 0.670167\n",
      "(Epoch 41 / 50) train acc: 0.780000; val_acc: 0.516000\n",
      "(Iteration 20101 / 24500) loss: 0.618070\n",
      "(Iteration 20201 / 24500) loss: 0.411032\n",
      "(Iteration 20301 / 24500) loss: 0.508597\n",
      "(Iteration 20401 / 24500) loss: 0.825687\n",
      "(Iteration 20501 / 24500) loss: 0.713499\n",
      "(Epoch 42 / 50) train acc: 0.787000; val_acc: 0.525000\n",
      "(Iteration 20601 / 24500) loss: 0.777989\n",
      "(Iteration 20701 / 24500) loss: 0.578591\n",
      "(Iteration 20801 / 24500) loss: 0.694780\n",
      "(Iteration 20901 / 24500) loss: 0.817784\n",
      "(Iteration 21001 / 24500) loss: 0.545405\n",
      "(Epoch 43 / 50) train acc: 0.798000; val_acc: 0.518000\n",
      "(Iteration 21101 / 24500) loss: 0.666527\n",
      "(Iteration 21201 / 24500) loss: 0.559683\n",
      "(Iteration 21301 / 24500) loss: 0.645134\n",
      "(Iteration 21401 / 24500) loss: 0.679869\n",
      "(Iteration 21501 / 24500) loss: 0.665810\n",
      "(Epoch 44 / 50) train acc: 0.764000; val_acc: 0.516000\n",
      "(Iteration 21601 / 24500) loss: 0.679700\n",
      "(Iteration 21701 / 24500) loss: 0.721242\n",
      "(Iteration 21801 / 24500) loss: 0.713403\n",
      "(Iteration 21901 / 24500) loss: 0.492008\n",
      "(Iteration 22001 / 24500) loss: 0.567820\n",
      "(Epoch 45 / 50) train acc: 0.770000; val_acc: 0.522000\n",
      "(Iteration 22101 / 24500) loss: 0.616728\n",
      "(Iteration 22201 / 24500) loss: 0.424162\n",
      "(Iteration 22301 / 24500) loss: 0.630752\n",
      "(Iteration 22401 / 24500) loss: 0.554361\n",
      "(Iteration 22501 / 24500) loss: 0.641912\n",
      "(Epoch 46 / 50) train acc: 0.811000; val_acc: 0.523000\n",
      "(Iteration 22601 / 24500) loss: 0.653756\n",
      "(Iteration 22701 / 24500) loss: 0.641638\n",
      "(Iteration 22801 / 24500) loss: 0.625532\n",
      "(Iteration 22901 / 24500) loss: 0.592569\n",
      "(Iteration 23001 / 24500) loss: 0.601704\n",
      "(Epoch 47 / 50) train acc: 0.823000; val_acc: 0.518000\n",
      "(Iteration 23101 / 24500) loss: 0.596127\n",
      "(Iteration 23201 / 24500) loss: 0.559627\n",
      "(Iteration 23301 / 24500) loss: 0.940932\n",
      "(Iteration 23401 / 24500) loss: 0.533414\n",
      "(Iteration 23501 / 24500) loss: 0.552987\n",
      "(Epoch 48 / 50) train acc: 0.792000; val_acc: 0.518000\n",
      "(Iteration 23601 / 24500) loss: 0.628941\n",
      "(Iteration 23701 / 24500) loss: 0.720237\n",
      "(Iteration 23801 / 24500) loss: 0.614247\n",
      "(Iteration 23901 / 24500) loss: 0.576782\n",
      "(Iteration 24001 / 24500) loss: 0.642136\n",
      "(Epoch 49 / 50) train acc: 0.824000; val_acc: 0.521000\n",
      "(Iteration 24101 / 24500) loss: 0.636813\n",
      "(Iteration 24201 / 24500) loss: 0.685106\n",
      "(Iteration 24301 / 24500) loss: 0.589177\n",
      "(Iteration 24401 / 24500) loss: 0.734974\n",
      "(Epoch 50 / 50) train acc: 0.788000; val_acc: 0.514000\n"
     ]
    }
   ],
   "source": [
    "model = TwoLayerNet()\n",
    "solver = None\n",
    "\n",
    "##############################################################################\n",
    "# TODO: Use a Solver instance to train a TwoLayerNet that achieves at least  #\n",
    "# 50% accuracy on the validation set.                                        #\n",
    "##############################################################################\n",
    "# *****START OF YOUR CODE (DO NOT DELETE/MODIFY THIS LINE)*****\n",
    "\n",
    "# Load the data\n",
    "from cs231n.data_utils import load_CIFAR10\n",
    "\n",
    "def get_CIFAR10_data(num_training=49000, num_validation=1000, num_test=1000):\n",
    "    # clean variables\n",
    "    try:\n",
    "        del X_train, y_train\n",
    "        del X_test, y_test\n",
    "        print('Clear old data')\n",
    "    except:\n",
    "        pass\n",
    "    \n",
    "    # load the raw data\n",
    "    cifar10_dir = 'cs231n/datasets/cifar-10-batches-py'\n",
    "    X_train, y_train, X_test, y_test = load_CIFAR10(cifar10_dir)\n",
    "    \"\"\"\n",
    "    Reminder:\n",
    "    1. We have initially 50000 training images, 10000 test images\n",
    "    2. We want to split 50000 training images into\n",
    "       + 49000 training images\n",
    "       +  1000 validation images for fake test for tuning hyperparameters\n",
    "    3. We want to extract 1000 test from 10000 to debug the training procedure\n",
    "    \"\"\"\n",
    "\n",
    "    # extract 1000 validation images from 49000-49999\n",
    "    mask = list(range(num_training, num_training + num_validation))\n",
    "    X_val = X_train[mask]\n",
    "    y_val = y_train[mask]\n",
    "    \n",
    "    # extract 49000 training images from image 0-48999\n",
    "    mask = list(range(num_training))\n",
    "    X_train = X_train[mask]\n",
    "    y_train = y_train[mask]\n",
    "    \n",
    "    # extract 1000 test images from 10000 test images\n",
    "    mask = list(range(num_test))\n",
    "    X_test = X_test[mask]\n",
    "    y_test = y_test[mask]\n",
    "    \n",
    "    # normalize the data : substract the mean image\n",
    "    mean_image = np.mean(X_train, axis=0)\n",
    "    X_train -= mean_image\n",
    "    X_val -= mean_image\n",
    "    X_test -= mean_image\n",
    "    \n",
    "    # reshape each image into a row\n",
    "    #print('here')\n",
    "    #print(X_train.shape)\n",
    "    X_train = X_train.reshape(num_training, -1)\n",
    "    #print(X_train.shape)\n",
    "    #print(X_val.shape)\n",
    "    X_val = X_val.reshape(num_validation, -1)\n",
    "    #print(X_val.shape)\n",
    "    #print(X_test.shape)\n",
    "    X_test = X_test.reshape(num_test, -1)\n",
    "    #print(X_test.shape)\n",
    "    \n",
    "    return X_train, y_train, X_val, y_val, X_test, y_test\n",
    "    \n",
    "X_train, y_train, X_val, y_val, X_test, y_test = get_CIFAR10_data()\n",
    "\n",
    "print('Train data shape: ', X_train.shape)\n",
    "print('Train labels shape: ', y_train.shape)\n",
    "print('Validation data shape: ', X_val.shape)\n",
    "print('Validation labels shape: ', y_val.shape)\n",
    "print('Test data shape: ', X_test.shape)\n",
    "print('Test labels shape: ', y_test.shape)\n",
    "\n",
    "# prepare data for solver\n",
    "data = {'X_train':X_train, 'y_train':y_train, 'X_val':X_val, 'y_val':y_val}\n",
    "\n",
    "# create an solver instance \n",
    "solver = Solver(model, data,\n",
    "                update_rule='sgd',\n",
    "                optim_config={'learning_rate': 1e-3,},\n",
    "                lr_decay=0.95,\n",
    "                num_epochs=50,\n",
    "                batch_size=100,\n",
    "                print_every=100)\n",
    "\n",
    "# train\n",
    "solver.train()\n",
    "\n",
    "pass\n",
    "\n",
    "# *****END OF YOUR CODE (DO NOT DELETE/MODIFY THIS LINE)*****\n",
    "##############################################################################\n",
    "#                             END OF YOUR CODE                               #\n",
    "##############################################################################"
   ]
  },
  {
   "cell_type": "code",
   "execution_count": 11,
   "metadata": {},
   "outputs": [
    {
     "data": {
      "image/png": "[encoded data removed]",
      "text/plain": [
       "<Figure size 1080x864 with 2 Axes>"
      ]
     },
     "metadata": {
      "needs_background": "light"
     },
     "output_type": "display_data"
    }
   ],
   "source": [
    "# Run this cell to visualize training loss and train / val accuracy\n",
    "\n",
    "plt.subplot(2, 1, 1)\n",
    "plt.title('Training loss')\n",
    "plt.plot(solver.loss_history, 'o')\n",
    "plt.xlabel('Iteration')\n",
    "\n",
    "plt.subplot(2, 1, 2)\n",
    "plt.title('Accuracy')\n",
    "plt.plot(solver.train_acc_history, '-o', label='train')\n",
    "plt.plot(solver.val_acc_history, '-o', label='val')\n",
    "plt.plot([0.5] * len(solver.val_acc_history), 'k--')\n",
    "plt.xlabel('Epoch')\n",
    "plt.legend(loc='lower right')\n",
    "plt.gcf().set_size_inches(15, 12)\n",
    "plt.show()"
   ]
  },
  {
   "cell_type": "markdown",
   "metadata": {},
   "source": [
    "# Multilayer network\n",
    "Next you will implement a fully-connected network with an arbitrary number of hidden layers.\n",
    "\n",
    "Read through the `FullyConnectedNet` class in the file `cs231n/classifiers/fc_net.py`.\n",
    "\n",
    "Implement the initialization, the forward pass, and the backward pass. For the moment don't worry about implementing dropout or batch/layer normalization; we will add those features soon."
   ]
  },
  {
   "cell_type": "markdown",
   "metadata": {},
   "source": [
    "## Initial loss and gradient check\n",
    "\n",
    "As a sanity check, run the following to check the initial loss and to gradient check the network both with and without regularization. Do the initial losses seem reasonable?\n",
    "\n",
    "For gradient checking, you should expect to see errors around 1e-7 or less."
   ]
  },
  {
   "cell_type": "code",
   "execution_count": 12,
   "metadata": {},
   "outputs": [
    {
     "name": "stdout",
     "output_type": "stream",
     "text": [
      "Running check with reg =  0\n",
      "Initial loss:  2.303059698318541\n",
      "W1 relative error: 2.48e-07\n",
      "W2 relative error: 2.94e-06\n",
      "W3 relative error: 4.44e-07\n",
      "b1 relative error: 1.19e-08\n",
      "b2 relative error: 1.90e-08\n",
      "b3 relative error: 7.68e-11\n",
      "Running check with reg =  3.14\n",
      "Initial loss:  7.052309055563793\n",
      "W1 relative error: 4.95e-08\n",
      "W2 relative error: 6.87e-08\n",
      "W3 relative error: 3.05e-08\n",
      "b1 relative error: 3.25e-08\n",
      "b2 relative error: 3.96e-09\n",
      "b3 relative error: 2.41e-10\n"
     ]
    }
   ],
   "source": [
    "np.random.seed(231)\n",
    "N, D, H1, H2, C = 2, 15, 20, 30, 10\n",
    "X = np.random.randn(N, D)\n",
    "y = np.random.randint(C, size=(N,))\n",
    "\n",
    "for reg in [0, 3.14]:\n",
    "  print('Running check with reg = ', reg)\n",
    "  model = FullyConnectedNet([H1, H2], input_dim=D, num_classes=C,\n",
    "                            reg=reg, weight_scale=5e-2, dtype=np.float64)\n",
    "\n",
    "  loss, grads = model.loss(X, y)\n",
    "  print('Initial loss: ', loss)\n",
    "  \n",
    "  # Most of the errors should be on the order of e-7 or smaller.   \n",
    "  # NOTE: It is fine however to see an error for W2 on the order of e-5\n",
    "  # for the check when reg = 0.0\n",
    "  for name in sorted(grads):\n",
    "    f = lambda _: model.loss(X, y)[0]\n",
    "    grad_num = eval_numerical_gradient(f, model.params[name], verbose=False, h=1e-5)\n",
    "    print('%s relative error: %.2e' % (name, rel_error(grad_num, grads[name])))"
   ]
  },
  {
   "cell_type": "markdown",
   "metadata": {},
   "source": [
    "As another sanity check, make sure you can overfit a small dataset of 50 images. First we will try a three-layer network with 100 units in each hidden layer. In the following cell, tweak the **learning rate** and **weight initialization scale** to overfit and achieve 100% training accuracy within 20 epochs."
   ]
  },
  {
   "cell_type": "code",
   "execution_count": 15,
   "metadata": {
    "scrolled": false
   },
   "outputs": [
    {
     "name": "stdout",
     "output_type": "stream",
     "text": [
      "weight_scale : 9.000000e-02, learning_rate : 2.000000e-03\n",
      "(Iteration 1 / 40) loss: 147.294274\n",
      "(Epoch 0 / 20) train acc: 0.180000; val_acc: 0.126000\n",
      "(Epoch 1 / 20) train acc: 0.220000; val_acc: 0.128000\n"
     ]
    },
    {
     "name": "stderr",
     "output_type": "stream",
     "text": [
      "/home/phan/Documents/code/python/cs321stanf/python_toward_deeplearning/assignment2/cs231n/classifiers/fc_net.py:390: RuntimeWarning: divide by zero encountered in log\n",
      "  L_images = np.log(softmax_mat[np.arange(N), y.astype(int)])\n"
     ]
    },
    {
     "name": "stdout",
     "output_type": "stream",
     "text": [
      "(Epoch 2 / 20) train acc: 0.080000; val_acc: 0.087000\n",
      "(Epoch 3 / 20) train acc: 0.080000; val_acc: 0.086000\n",
      "(Epoch 4 / 20) train acc: 0.080000; val_acc: 0.086000\n",
      "(Epoch 5 / 20) train acc: 0.080000; val_acc: 0.086000\n",
      "(Iteration 11 / 40) loss: 2.302585\n",
      "(Epoch 6 / 20) train acc: 0.080000; val_acc: 0.086000\n",
      "(Epoch 7 / 20) train acc: 0.080000; val_acc: 0.086000\n",
      "(Epoch 8 / 20) train acc: 0.080000; val_acc: 0.086000\n",
      "(Epoch 9 / 20) train acc: 0.080000; val_acc: 0.086000\n",
      "(Epoch 10 / 20) train acc: 0.080000; val_acc: 0.086000\n",
      "(Iteration 21 / 40) loss: 2.302585\n",
      "(Epoch 11 / 20) train acc: 0.080000; val_acc: 0.086000\n",
      "(Epoch 12 / 20) train acc: 0.080000; val_acc: 0.086000\n",
      "(Epoch 13 / 20) train acc: 0.080000; val_acc: 0.086000\n",
      "(Epoch 14 / 20) train acc: 0.080000; val_acc: 0.086000\n",
      "(Epoch 15 / 20) train acc: 0.080000; val_acc: 0.086000\n",
      "(Iteration 31 / 40) loss: 2.302585\n",
      "(Epoch 16 / 20) train acc: 0.080000; val_acc: 0.086000\n",
      "(Epoch 17 / 20) train acc: 0.080000; val_acc: 0.086000\n",
      "(Epoch 18 / 20) train acc: 0.080000; val_acc: 0.086000\n",
      "(Epoch 19 / 20) train acc: 0.080000; val_acc: 0.086000\n",
      "(Epoch 20 / 20) train acc: 0.080000; val_acc: 0.086000\n"
     ]
    },
    {
     "data": {
      "image/png": "[encoded data removed]",
      "text/plain": [
       "<Figure size 432x288 with 1 Axes>"
      ]
     },
     "metadata": {
      "needs_background": "light"
     },
     "output_type": "display_data"
    }
   ],
   "source": [
    "# TODO: Use a three-layer Net to overfit 50 training examples by \n",
    "# tweaking just the learning rate and initialization scale.\n",
    "\n",
    "num_train = 50\n",
    "small_data = {\n",
    "  'X_train': data['X_train'][:num_train],\n",
    "  'y_train': data['y_train'][:num_train],\n",
    "  'X_val': data['X_val'],\n",
    "  'y_val': data['y_val'],\n",
    "}\n",
    "\n",
    "#weight_scale = 1e-2   # Experiment with this!\n",
    "#learning_rate = 1e-4  # Experiment with this!\n",
    "\n",
    "w_lr_e = [(-2, -3)]\n",
    "w_lr_b = [(9, 2)]\n",
    "for ew, eb in w_lr_e:\n",
    "    for bw, bb in w_lr_b:\n",
    "        weight_scale = bw*10**ew\n",
    "        learning_rate = bb*10**eb\n",
    "        print('weight_scale : %e, learning_rate : %e' %(weight_scale, learning_rate))\n",
    "        model = FullyConnectedNet([100, 100],\n",
    "                      weight_scale=weight_scale, dtype=np.float64)\n",
    "        solver = Solver(model, small_data,\n",
    "                        print_every=10, num_epochs=20, batch_size=25,\n",
    "                        update_rule='sgd',\n",
    "                        optim_config={\n",
    "                          'learning_rate': learning_rate,\n",
    "                        }\n",
    "                 )\n",
    "        solver.train()\n",
    "\n",
    "plt.plot(solver.loss_history, 'o')\n",
    "plt.title('Training loss history')\n",
    "plt.xlabel('Iteration')\n",
    "plt.ylabel('Training loss')\n",
    "plt.show()"
   ]
  },
  {
   "cell_type": "markdown",
   "metadata": {},
   "source": [
    "Now try to use a five-layer network with 100 units on each layer to overfit 50 training examples. Again, you will have to adjust the learning rate and weight initialization scale, but you should be able to achieve 100% training accuracy within 20 epochs."
   ]
  },
  {
   "cell_type": "code",
   "execution_count": 20,
   "metadata": {},
   "outputs": [
    {
     "name": "stdout",
     "output_type": "stream",
     "text": [
      "['W1', 'W2', 'W3', 'W4', 'W5']\n",
      "['b1', 'b2', 'b3', 'b4', 'b5']\n",
      "[(3072, 100), (100, 100), (100, 100), (100, 100), (100, 10)]\n",
      "(Iteration 1 / 40) loss: 2.302585\n",
      "(Epoch 0 / 20) train acc: 0.160000; val_acc: 0.079000\n",
      "(Epoch 1 / 20) train acc: 0.120000; val_acc: 0.105000\n",
      "(Epoch 2 / 20) train acc: 0.160000; val_acc: 0.112000\n",
      "(Epoch 3 / 20) train acc: 0.160000; val_acc: 0.112000\n",
      "(Epoch 4 / 20) train acc: 0.160000; val_acc: 0.112000\n",
      "(Epoch 5 / 20) train acc: 0.160000; val_acc: 0.112000\n",
      "(Iteration 11 / 40) loss: 2.302365\n",
      "(Epoch 6 / 20) train acc: 0.160000; val_acc: 0.112000\n",
      "(Epoch 7 / 20) train acc: 0.160000; val_acc: 0.112000\n",
      "(Epoch 8 / 20) train acc: 0.160000; val_acc: 0.112000\n",
      "(Epoch 9 / 20) train acc: 0.160000; val_acc: 0.112000\n",
      "(Epoch 10 / 20) train acc: 0.160000; val_acc: 0.079000\n",
      "(Iteration 21 / 40) loss: 2.302397\n",
      "(Epoch 11 / 20) train acc: 0.160000; val_acc: 0.079000\n",
      "(Epoch 12 / 20) train acc: 0.160000; val_acc: 0.079000\n",
      "(Epoch 13 / 20) train acc: 0.160000; val_acc: 0.079000\n",
      "(Epoch 14 / 20) train acc: 0.160000; val_acc: 0.079000\n",
      "(Epoch 15 / 20) train acc: 0.160000; val_acc: 0.079000\n",
      "(Iteration 31 / 40) loss: 2.301954\n",
      "(Epoch 16 / 20) train acc: 0.160000; val_acc: 0.079000\n",
      "(Epoch 17 / 20) train acc: 0.160000; val_acc: 0.079000\n",
      "(Epoch 18 / 20) train acc: 0.160000; val_acc: 0.079000\n",
      "(Epoch 19 / 20) train acc: 0.160000; val_acc: 0.079000\n",
      "(Epoch 20 / 20) train acc: 0.160000; val_acc: 0.112000\n"
     ]
    },
    {
     "data": {
      "image/png": "[encoded data removed]",
      "text/plain": [
       "<Figure size 432x288 with 1 Axes>"
      ]
     },
     "metadata": {
      "needs_background": "light"
     },
     "output_type": "display_data"
    }
   ],
   "source": [
    "# TODO: Use a five-layer Net to overfit 50 training examples by \n",
    "# tweaking just the learning rate and initialization scale.\n",
    "\n",
    "num_train = 50\n",
    "small_data = {\n",
    "  'X_train': data['X_train'][:num_train],\n",
    "  'y_train': data['y_train'][:num_train],\n",
    "  'X_val': data['X_val'],\n",
    "  'y_val': data['y_val'],\n",
    "}\n",
    "\n",
    "learning_rate = 2e-3  # Experiment with this!\n",
    "weight_scale = 1e-5   # Experiment with this!\n",
    "model = FullyConnectedNet([100, 100, 100, 100],\n",
    "                weight_scale=weight_scale, dtype=np.float64)\n",
    "solver = Solver(model, small_data,\n",
    "                print_every=10, num_epochs=20, batch_size=25,\n",
    "                update_rule='sgd',\n",
    "                optim_config={\n",
    "                  'learning_rate': learning_rate,\n",
    "                }\n",
    "         )\n",
    "solver.train()\n",
    "\n",
    "plt.plot(solver.loss_history, 'o')\n",
    "plt.title('Training loss history')\n",
    "plt.xlabel('Iteration')\n",
    "plt.ylabel('Training loss')\n",
    "plt.show()"
   ]
  },
  {
   "cell_type": "markdown",
   "metadata": {
    "tags": [
     "pdf-inline"
    ]
   },
   "source": [
    "## Inline Question 2: \n",
    "Did you notice anything about the comparative difficulty of training the three-layer net vs training the five layer net? In particular, based on your experience, which network seemed more sensitive to the initialization scale? Why do you think that is the case?\n",
    "\n",
    "## Answer:\n",
    "[FILL THIS IN]\n"
   ]
  },
  {
   "cell_type": "markdown",
   "metadata": {},
   "source": [
    "# Update rules\n",
    "So far we have used vanilla stochastic gradient descent (SGD) as our update rule. More sophisticated update rules can make it easier to train deep networks. We will implement a few of the most commonly used update rules and compare them to vanilla SGD."
   ]
  },
  {
   "cell_type": "markdown",
   "metadata": {},
   "source": [
    "# SGD+Momentum\n",
    "Stochastic gradient descent with momentum is a widely used update rule that tends to make deep networks converge faster than vanilla stochastic gradient descent. See the Momentum Update section at http://cs231n.github.io/neural-networks-3/#sgd for more information.\n",
    "\n",
    "Open the file `cs231n/optim.py` and read the documentation at the top of the file to make sure you understand the API. Implement the SGD+momentum update rule in the function `sgd_momentum` and run the following to check your implementation. You should see errors less than e-8."
   ]
  },
  {
   "cell_type": "code",
   "execution_count": 21,
   "metadata": {},
   "outputs": [
    {
     "name": "stdout",
     "output_type": "stream",
     "text": [
      "next_w error:  8.882347033505819e-09\n",
      "velocity error:  4.269287743278663e-09\n"
     ]
    }
   ],
   "source": [
    "from cs231n.optim import sgd_momentum\n",
    "\n",
    "N, D = 4, 5\n",
    "w = np.linspace(-0.4, 0.6, num=N*D).reshape(N, D)\n",
    "dw = np.linspace(-0.6, 0.4, num=N*D).reshape(N, D)\n",
    "v = np.linspace(0.6, 0.9, num=N*D).reshape(N, D)\n",
    "\n",
    "config = {'learning_rate': 1e-3, 'velocity': v}\n",
    "next_w, _ = sgd_momentum(w, dw, config=config)\n",
    "\n",
    "expected_next_w = np.asarray([\n",
    "  [ 0.1406,      0.20738947,  0.27417895,  0.34096842,  0.40775789],\n",
    "  [ 0.47454737,  0.54133684,  0.60812632,  0.67491579,  0.74170526],\n",
    "  [ 0.80849474,  0.87528421,  0.94207368,  1.00886316,  1.07565263],\n",
    "  [ 1.14244211,  1.20923158,  1.27602105,  1.34281053,  1.4096    ]])\n",
    "expected_velocity = np.asarray([\n",
    "  [ 0.5406,      0.55475789,  0.56891579, 0.58307368,  0.59723158],\n",
    "  [ 0.61138947,  0.62554737,  0.63970526,  0.65386316,  0.66802105],\n",
    "  [ 0.68217895,  0.69633684,  0.71049474,  0.72465263,  0.73881053],\n",
    "  [ 0.75296842,  0.76712632,  0.78128421,  0.79544211,  0.8096    ]])\n",
    "\n",
    "# Should see relative errors around e-8 or less\n",
    "print('next_w error: ', rel_error(next_w, expected_next_w))\n",
    "print('velocity error: ', rel_error(expected_velocity, config['velocity']))"
   ]
  },
  {
   "cell_type": "markdown",
   "metadata": {},
   "source": [
    "Once you have done so, run the following to train a six-layer network with both SGD and SGD+momentum. You should see the SGD+momentum update rule converge faster."
   ]
  },
  {
   "cell_type": "code",
   "execution_count": 22,
   "metadata": {
    "scrolled": false
   },
   "outputs": [
    {
     "name": "stdout",
     "output_type": "stream",
     "text": [
      "running with  sgd\n",
      "['W1', 'W2', 'W3', 'W4', 'W5', 'W6']\n",
      "['b1', 'b2', 'b3', 'b4', 'b5', 'b6']\n",
      "[(3072, 100), (100, 100), (100, 100), (100, 100), (100, 100), (100, 10)]\n",
      "(Iteration 1 / 200) loss: 2.420562\n",
      "(Epoch 0 / 5) train acc: 0.109000; val_acc: 0.103000\n",
      "(Iteration 11 / 200) loss: 2.286781\n",
      "(Iteration 21 / 200) loss: 2.290055\n",
      "(Iteration 31 / 200) loss: 2.240886\n",
      "(Epoch 1 / 5) train acc: 0.126000; val_acc: 0.117000\n",
      "(Iteration 41 / 200) loss: 2.297383\n",
      "(Iteration 51 / 200) loss: 2.240751\n",
      "(Iteration 61 / 200) loss: 2.259214\n",
      "(Iteration 71 / 200) loss: 2.224801\n",
      "(Epoch 2 / 5) train acc: 0.214000; val_acc: 0.168000\n",
      "(Iteration 81 / 200) loss: 2.235890\n",
      "(Iteration 91 / 200) loss: 2.208895\n",
      "(Iteration 101 / 200) loss: 2.243400\n",
      "(Iteration 111 / 200) loss: 2.184505\n",
      "(Epoch 3 / 5) train acc: 0.246000; val_acc: 0.201000\n",
      "(Iteration 121 / 200) loss: 2.186599\n",
      "(Iteration 131 / 200) loss: 2.121402\n",
      "(Iteration 141 / 200) loss: 2.122697\n",
      "(Iteration 151 / 200) loss: 2.026853\n",
      "(Epoch 4 / 5) train acc: 0.264000; val_acc: 0.246000\n",
      "(Iteration 161 / 200) loss: 1.977944\n",
      "(Iteration 171 / 200) loss: 2.065950\n",
      "(Iteration 181 / 200) loss: 2.081303\n",
      "(Iteration 191 / 200) loss: 2.020680\n",
      "(Epoch 5 / 5) train acc: 0.321000; val_acc: 0.272000\n",
      "\n",
      "running with  sgd_momentum\n",
      "['W1', 'W2', 'W3', 'W4', 'W5', 'W6']\n",
      "['b1', 'b2', 'b3', 'b4', 'b5', 'b6']\n",
      "[(3072, 100), (100, 100), (100, 100), (100, 100), (100, 100), (100, 10)]\n",
      "(Iteration 1 / 200) loss: 2.345876\n",
      "(Epoch 0 / 5) train acc: 0.101000; val_acc: 0.111000\n",
      "(Iteration 11 / 200) loss: 2.276439\n",
      "(Iteration 21 / 200) loss: 2.185344\n",
      "(Iteration 31 / 200) loss: 2.186772\n",
      "(Epoch 1 / 5) train acc: 0.230000; val_acc: 0.185000\n",
      "(Iteration 41 / 200) loss: 2.201052\n",
      "(Iteration 51 / 200) loss: 2.175430\n",
      "(Iteration 61 / 200) loss: 1.970881\n",
      "(Iteration 71 / 200) loss: 2.043628\n",
      "(Epoch 2 / 5) train acc: 0.294000; val_acc: 0.204000\n",
      "(Iteration 81 / 200) loss: 2.118267\n",
      "(Iteration 91 / 200) loss: 1.977440\n",
      "(Iteration 101 / 200) loss: 2.161292\n",
      "(Iteration 111 / 200) loss: 1.924463\n",
      "(Epoch 3 / 5) train acc: 0.371000; val_acc: 0.231000\n",
      "(Iteration 121 / 200) loss: 2.070684\n",
      "(Iteration 131 / 200) loss: 1.876429\n",
      "(Iteration 141 / 200) loss: 1.831450\n",
      "(Iteration 151 / 200) loss: 1.940448\n",
      "(Epoch 4 / 5) train acc: 0.390000; val_acc: 0.269000\n",
      "(Iteration 161 / 200) loss: 1.795803\n",
      "(Iteration 171 / 200) loss: 1.851788\n",
      "(Iteration 181 / 200) loss: 1.698992\n",
      "(Iteration 191 / 200) loss: 1.621824\n",
      "(Epoch 5 / 5) train acc: 0.436000; val_acc: 0.289000\n",
      "\n"
     ]
    },
    {
     "name": "stderr",
     "output_type": "stream",
     "text": [
      "/usr/local/lib/python3.7/site-packages/matplotlib/figure.py:98: MatplotlibDeprecationWarning: \n",
      "Adding an axes using the same arguments as a previous axes currently reuses the earlier instance.  In a future version, a new instance will always be created and returned.  Meanwhile, this warning can be suppressed, and the future behavior ensured, by passing a unique label to each axes instance.\n",
      "  \"Adding an axes using the same arguments as a previous axes \"\n"
     ]
    },
    {
     "data": {
      "image/png": "[encoded data removed]",
      "text/plain": [
       "<Figure size 1080x1080 with 3 Axes>"
      ]
     },
     "metadata": {
      "needs_background": "light"
     },
     "output_type": "display_data"
    }
   ],
   "source": [
    "num_train = 4000\n",
    "small_data = {\n",
    "  'X_train': data['X_train'][:num_train],\n",
    "  'y_train': data['y_train'][:num_train],\n",
    "  'X_val': data['X_val'],\n",
    "  'y_val': data['y_val'],\n",
    "}\n",
    "\n",
    "solvers = {}\n",
    "\n",
    "for update_rule in ['sgd', 'sgd_momentum']:\n",
    "  print('running with ', update_rule)\n",
    "  model = FullyConnectedNet([100, 100, 100, 100, 100], weight_scale=5e-2)\n",
    "\n",
    "  solver = Solver(model, small_data,\n",
    "                  num_epochs=5, batch_size=100,\n",
    "                  update_rule=update_rule,\n",
    "                  optim_config={\n",
    "                    'learning_rate': 5e-3,\n",
    "                  },\n",
    "                  verbose=True)\n",
    "  solvers[update_rule] = solver\n",
    "  solver.train()\n",
    "  print()\n",
    "\n",
    "plt.subplot(3, 1, 1)\n",
    "plt.title('Training loss')\n",
    "plt.xlabel('Iteration')\n",
    "\n",
    "plt.subplot(3, 1, 2)\n",
    "plt.title('Training accuracy')\n",
    "plt.xlabel('Epoch')\n",
    "\n",
    "plt.subplot(3, 1, 3)\n",
    "plt.title('Validation accuracy')\n",
    "plt.xlabel('Epoch')\n",
    "\n",
    "for update_rule, solver in solvers.items():\n",
    "  plt.subplot(3, 1, 1)\n",
    "  plt.plot(solver.loss_history, 'o', label=\"loss_%s\" % update_rule)\n",
    "  \n",
    "  plt.subplot(3, 1, 2)\n",
    "  plt.plot(solver.train_acc_history, '-o', label=\"train_acc_%s\" % update_rule)\n",
    "\n",
    "  plt.subplot(3, 1, 3)\n",
    "  plt.plot(solver.val_acc_history, '-o', label=\"val_acc_%s\" % update_rule)\n",
    "  \n",
    "for i in [1, 2, 3]:\n",
    "  plt.subplot(3, 1, i)\n",
    "  plt.legend(loc='upper center', ncol=4)\n",
    "plt.gcf().set_size_inches(15, 15)\n",
    "plt.show()"
   ]
  },
  {
   "cell_type": "markdown",
   "metadata": {},
   "source": [
    "# RMSProp and Adam\n",
    "RMSProp [1] and Adam [2] are update rules that set per-parameter learning rates by using a running average of the second moments of gradients.\n",
    "\n",
    "In the file `cs231n/optim.py`, implement the RMSProp update rule in the `rmsprop` function and implement the Adam update rule in the `adam` function, and check your implementations using the tests below.\n",
    "\n",
    "**NOTE:** Please implement the _complete_ Adam update rule (with the bias correction mechanism), not the first simplified version mentioned in the course notes. \n",
    "\n",
    "[1] Tijmen Tieleman and Geoffrey Hinton. \"Lecture 6.5-rmsprop: Divide the gradient by a running average of its recent magnitude.\" COURSERA: Neural Networks for Machine Learning 4 (2012).\n",
    "\n",
    "[2] Diederik Kingma and Jimmy Ba, \"Adam: A Method for Stochastic Optimization\", ICLR 2015."
   ]
  },
  {
   "cell_type": "code",
   "execution_count": null,
   "metadata": {},
   "outputs": [],
   "source": [
    "# Test RMSProp implementation\n",
    "from cs231n.optim import rmsprop\n",
    "\n",
    "N, D = 4, 5\n",
    "w = np.linspace(-0.4, 0.6, num=N*D).reshape(N, D)\n",
    "dw = np.linspace(-0.6, 0.4, num=N*D).reshape(N, D)\n",
    "cache = np.linspace(0.6, 0.9, num=N*D).reshape(N, D)\n",
    "\n",
    "config = {'learning_rate': 1e-2, 'cache': cache}\n",
    "next_w, _ = rmsprop(w, dw, config=config)\n",
    "\n",
    "expected_next_w = np.asarray([\n",
    "  [-0.39223849, -0.34037513, -0.28849239, -0.23659121, -0.18467247],\n",
    "  [-0.132737,   -0.08078555, -0.02881884,  0.02316247,  0.07515774],\n",
    "  [ 0.12716641,  0.17918792,  0.23122175,  0.28326742,  0.33532447],\n",
    "  [ 0.38739248,  0.43947102,  0.49155973,  0.54365823,  0.59576619]])\n",
    "expected_cache = np.asarray([\n",
    "  [ 0.5976,      0.6126277,   0.6277108,   0.64284931,  0.65804321],\n",
    "  [ 0.67329252,  0.68859723,  0.70395734,  0.71937285,  0.73484377],\n",
    "  [ 0.75037008,  0.7659518,   0.78158892,  0.79728144,  0.81302936],\n",
    "  [ 0.82883269,  0.84469141,  0.86060554,  0.87657507,  0.8926    ]])\n",
    "\n",
    "# You should see relative errors around e-7 or less\n",
    "print('next_w error: ', rel_error(expected_next_w, next_w))\n",
    "print('cache error: ', rel_error(expected_cache, config['cache']))"
   ]
  },
  {
   "cell_type": "code",
   "execution_count": null,
   "metadata": {},
   "outputs": [],
   "source": [
    "# Test Adam implementation\n",
    "from cs231n.optim import adam\n",
    "\n",
    "N, D = 4, 5\n",
    "w = np.linspace(-0.4, 0.6, num=N*D).reshape(N, D)\n",
    "dw = np.linspace(-0.6, 0.4, num=N*D).reshape(N, D)\n",
    "m = np.linspace(0.6, 0.9, num=N*D).reshape(N, D)\n",
    "v = np.linspace(0.7, 0.5, num=N*D).reshape(N, D)\n",
    "\n",
    "config = {'learning_rate': 1e-2, 'm': m, 'v': v, 't': 5}\n",
    "next_w, _ = adam(w, dw, config=config)\n",
    "\n",
    "expected_next_w = np.asarray([\n",
    "  [-0.40094747, -0.34836187, -0.29577703, -0.24319299, -0.19060977],\n",
    "  [-0.1380274,  -0.08544591, -0.03286534,  0.01971428,  0.0722929],\n",
    "  [ 0.1248705,   0.17744702,  0.23002243,  0.28259667,  0.33516969],\n",
    "  [ 0.38774145,  0.44031188,  0.49288093,  0.54544852,  0.59801459]])\n",
    "expected_v = np.asarray([\n",
    "  [ 0.69966,     0.68908382,  0.67851319,  0.66794809,  0.65738853,],\n",
    "  [ 0.64683452,  0.63628604,  0.6257431,   0.61520571,  0.60467385,],\n",
    "  [ 0.59414753,  0.58362676,  0.57311152,  0.56260183,  0.55209767,],\n",
    "  [ 0.54159906,  0.53110598,  0.52061845,  0.51013645,  0.49966,   ]])\n",
    "expected_m = np.asarray([\n",
    "  [ 0.48,        0.49947368,  0.51894737,  0.53842105,  0.55789474],\n",
    "  [ 0.57736842,  0.59684211,  0.61631579,  0.63578947,  0.65526316],\n",
    "  [ 0.67473684,  0.69421053,  0.71368421,  0.73315789,  0.75263158],\n",
    "  [ 0.77210526,  0.79157895,  0.81105263,  0.83052632,  0.85      ]])\n",
    "\n",
    "# You should see relative errors around e-7 or less\n",
    "print('next_w error: ', rel_error(expected_next_w, next_w))\n",
    "print('v error: ', rel_error(expected_v, config['v']))\n",
    "print('m error: ', rel_error(expected_m, config['m']))"
   ]
  },
  {
   "cell_type": "markdown",
   "metadata": {},
   "source": [
    "Once you have debugged your RMSProp and Adam implementations, run the following to train a pair of deep networks using these new update rules:"
   ]
  },
  {
   "cell_type": "code",
   "execution_count": null,
   "metadata": {},
   "outputs": [],
   "source": [
    "learning_rates = {'rmsprop': 1e-4, 'adam': 1e-3}\n",
    "for update_rule in ['adam', 'rmsprop']:\n",
    "  print('running with ', update_rule)\n",
    "  model = FullyConnectedNet([100, 100, 100, 100, 100], weight_scale=5e-2)\n",
    "\n",
    "  solver = Solver(model, small_data,\n",
    "                  num_epochs=5, batch_size=100,\n",
    "                  update_rule=update_rule,\n",
    "                  optim_config={\n",
    "                    'learning_rate': learning_rates[update_rule]\n",
    "                  },\n",
    "                  verbose=True)\n",
    "  solvers[update_rule] = solver\n",
    "  solver.train()\n",
    "  print()\n",
    "\n",
    "plt.subplot(3, 1, 1)\n",
    "plt.title('Training loss')\n",
    "plt.xlabel('Iteration')\n",
    "\n",
    "plt.subplot(3, 1, 2)\n",
    "plt.title('Training accuracy')\n",
    "plt.xlabel('Epoch')\n",
    "\n",
    "plt.subplot(3, 1, 3)\n",
    "plt.title('Validation accuracy')\n",
    "plt.xlabel('Epoch')\n",
    "\n",
    "for update_rule, solver in list(solvers.items()):\n",
    "  plt.subplot(3, 1, 1)\n",
    "  plt.plot(solver.loss_history, 'o', label=update_rule)\n",
    "  \n",
    "  plt.subplot(3, 1, 2)\n",
    "  plt.plot(solver.train_acc_history, '-o', label=update_rule)\n",
    "\n",
    "  plt.subplot(3, 1, 3)\n",
    "  plt.plot(solver.val_acc_history, '-o', label=update_rule)\n",
    "  \n",
    "for i in [1, 2, 3]:\n",
    "  plt.subplot(3, 1, i)\n",
    "  plt.legend(loc='upper center', ncol=4)\n",
    "plt.gcf().set_size_inches(15, 15)\n",
    "plt.show()"
   ]
  },
  {
   "cell_type": "markdown",
   "metadata": {
    "tags": [
     "pdf-inline"
    ]
   },
   "source": [
    "## Inline Question 3:\n",
    "\n",
    "AdaGrad, like Adam, is a per-parameter optimization method that uses the following update rule:\n",
    "\n",
    "```\n",
    "cache += dw**2\n",
    "w += - learning_rate * dw / (np.sqrt(cache) + eps)\n",
    "```\n",
    "\n",
    "John notices that when he was training a network with AdaGrad that the updates became very small, and that his network was learning slowly. Using your knowledge of the AdaGrad update rule, why do you think the updates would become very small? Would Adam have the same issue?\n",
    "\n",
    "\n",
    "## Answer: \n",
    "[FILL THIS IN]\n"
   ]
  },
  {
   "cell_type": "markdown",
   "metadata": {},
   "source": [
    "# Train a good model!\n",
    "Train the best fully-connected model that you can on CIFAR-10, storing your best model in the `best_model` variable. We require you to get at least 50% accuracy on the validation set using a fully-connected net.\n",
    "\n",
    "If you are careful it should be possible to get accuracies above 55%, but we don't require it for this part and won't assign extra credit for doing so. Later in the assignment we will ask you to train the best convolutional network that you can on CIFAR-10, and we would prefer that you spend your effort working on convolutional nets rather than fully-connected nets.\n",
    "\n",
    "You might find it useful to complete the `BatchNormalization.ipynb` and `Dropout.ipynb` notebooks before completing this part, since those techniques can help you train powerful models."
   ]
  },
  {
   "cell_type": "code",
   "execution_count": null,
   "metadata": {
    "scrolled": false
   },
   "outputs": [],
   "source": [
    "best_model = None\n",
    "################################################################################\n",
    "# TODO: Train the best FullyConnectedNet that you can on CIFAR-10. You might   #\n",
    "# find batch/layer normalization and dropout useful. Store your best model in  #\n",
    "# the best_model variable.                                                     #\n",
    "################################################################################\n",
    "# *****START OF YOUR CODE (DO NOT DELETE/MODIFY THIS LINE)*****\n",
    "\n",
    "pass\n",
    "\n",
    "# *****END OF YOUR CODE (DO NOT DELETE/MODIFY THIS LINE)*****\n",
    "################################################################################\n",
    "#                              END OF YOUR CODE                                #\n",
    "################################################################################"
   ]
  },
  {
   "cell_type": "markdown",
   "metadata": {},
   "source": [
    "# Test your model!\n",
    "Run your best model on the validation and test sets. You should achieve above 50% accuracy on the validation set."
   ]
  },
  {
   "cell_type": "code",
   "execution_count": null,
   "metadata": {},
   "outputs": [],
   "source": [
    "y_test_pred = np.argmax(best_model.loss(data['X_test']), axis=1)\n",
    "y_val_pred = np.argmax(best_model.loss(data['X_val']), axis=1)\n",
    "print('Validation set accuracy: ', (y_val_pred == data['y_val']).mean())\n",
    "print('Test set accuracy: ', (y_test_pred == data['y_test']).mean())"
   ]
  }
 ],
 "metadata": {
  "kernelspec": {
   "display_name": "Python 3",
   "language": "python",
   "name": "python3"
  },
  "language_info": {
   "codemirror_mode": {
    "name": "ipython",
    "version": 3
   },
   "file_extension": ".py",
   "mimetype": "text/x-python",
   "name": "python",
   "nbconvert_exporter": "python",
   "pygments_lexer": "ipython3",
   "version": "3.7.4"
  }
 },
 "nbformat": 4,
 "nbformat_minor": 2
}
