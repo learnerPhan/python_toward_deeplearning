{
 "cells": [
  {
   "cell_type": "markdown",
   "metadata": {},
   "source": [
    "Somes clarifications on performing tf.matmul, on reshaping a matrix and tf.matmul a matrix and its transposed matrix"
   ]
  },
  {
   "cell_type": "code",
   "execution_count": 2,
   "metadata": {},
   "outputs": [],
   "source": [
    "import tensorflow as tf"
   ]
  },
  {
   "cell_type": "code",
   "execution_count": 5,
   "metadata": {},
   "outputs": [
    {
     "name": "stdout",
     "output_type": "stream",
     "text": [
      "A : \n",
      "[[0. 1.]\n",
      " [1. 2.]]\n"
     ]
    }
   ],
   "source": [
    "# create a 2x2 rank 2 tensor (i.e matrix)\n",
    "tensor_A = tf.constant([[0, 1], [1, 2]], name=\"A\", dtype=tf.float32)\n",
    "\n",
    "# print a tensor\n",
    "print(\"A : \\n{}\".format(tensor_A))"
   ]
  },
  {
   "cell_type": "code",
   "execution_count": 6,
   "metadata": {},
   "outputs": [
    {
     "name": "stdout",
     "output_type": "stream",
     "text": [
      "B : \n",
      "[[1. 2.]\n",
      " [2. 3.]]\n"
     ]
    }
   ],
   "source": [
    "# create another 2x2 rank2 tensor\n",
    "tensor_B = tf.constant([[1, 2], [2, 3]], name=\"B\", dtype=tf.float32)\n",
    "\n",
    "# print a tensor\n",
    "print(\"B : \\n{}\".format(tensor_B))"
   ]
  },
  {
   "cell_type": "code",
   "execution_count": 7,
   "metadata": {},
   "outputs": [
    {
     "name": "stdout",
     "output_type": "stream",
     "text": [
      "tensor_matmul : \n",
      "[[2. 3.]\n",
      " [5. 8.]]\n"
     ]
    }
   ],
   "source": [
    "# see matmul\n",
    "tensor_matmul = tf.matmul(tensor_A, tensor_B)\n",
    "print(\"tensor_matmul : \\n{}\".format(tensor_matmul))"
   ]
  },
  {
   "cell_type": "markdown",
   "metadata": {},
   "source": [
    "So tf.matmul is dot product"
   ]
  },
  {
   "cell_type": "code",
   "execution_count": 8,
   "metadata": {},
   "outputs": [
    {
     "name": "stdout",
     "output_type": "stream",
     "text": [
      "tensor_multiply : \n",
      "[[0. 2.]\n",
      " [2. 6.]]\n"
     ]
    }
   ],
   "source": [
    "# see multiply\n",
    "tensor_multiply = tf.multiply(tensor_A, tensor_B)\n",
    "print(\"tensor_multiply : \\n{}\".format(tensor_multiply))"
   ]
  },
  {
   "cell_type": "markdown",
   "metadata": {},
   "source": [
    "So tf.multiply is elementwise multiplication"
   ]
  },
  {
   "cell_type": "code",
   "execution_count": 10,
   "metadata": {},
   "outputs": [
    {
     "name": "stdout",
     "output_type": "stream",
     "text": [
      "C : \n",
      "[[0. 0. 1.]\n",
      " [1. 2. 3.]]\n"
     ]
    }
   ],
   "source": [
    "# create a 2x3 matrix\n",
    "C = tf.constant([[0, 0, 1], [1, 2, 3]], name=\"C\", dtype=tf.float32)\n",
    "print(\"C : \\n{}\".format(C))"
   ]
  },
  {
   "cell_type": "code",
   "execution_count": 11,
   "metadata": {},
   "outputs": [
    {
     "name": "stdout",
     "output_type": "stream",
     "text": [
      "C_t : \n",
      "[[0. 1.]\n",
      " [0. 2.]\n",
      " [1. 3.]]\n"
     ]
    }
   ],
   "source": [
    "# transpose a matrix\n",
    "C_t = tf.transpose(C)\n",
    "print(\"C_t : \\n{}\".format(C_t))"
   ]
  },
  {
   "cell_type": "code",
   "execution_count": 12,
   "metadata": {},
   "outputs": [
    {
     "name": "stdout",
     "output_type": "stream",
     "text": [
      "tensor_matmul : \n",
      "[[ 1.  2.  3.]\n",
      " [ 2.  4.  6.]\n",
      " [ 3.  6. 10.]]\n"
     ]
    }
   ],
   "source": [
    "# see tf.matmul\n",
    "tensor_matmul = tf.matmul(C_t, C)\n",
    "print(\"tensor_matmul : \\n{}\".format(tensor_matmul))"
   ]
  },
  {
   "cell_type": "code",
   "execution_count": 16,
   "metadata": {},
   "outputs": [
    {
     "name": "stdout",
     "output_type": "stream",
     "text": [
      "D : \n",
      "[[[4 2 2 0 0]\n",
      "  [2 3 1 4 1]\n",
      "  [4 3 0 3 4]]\n",
      "\n",
      " [[0 1 3 0 2]\n",
      "  [1 1 2 1 4]\n",
      "  [0 1 3 2 3]]]\n"
     ]
    }
   ],
   "source": [
    "# random (2, 3, 4) tensor\n",
    "H, W, C = 2, 3, 5\n",
    "shape = (H, W, C)\n",
    "D = tf.random.uniform(shape, minval=0, maxval=5, dtype=tf.int32, seed=None, name=\"D\")\n",
    "print(\"D : \\n{}\".format(D))"
   ]
  },
  {
   "cell_type": "code",
   "execution_count": 21,
   "metadata": {},
   "outputs": [
    {
     "name": "stdout",
     "output_type": "stream",
     "text": [
      "D_reshape1 : \n",
      "[[4 2 2 0 0 2]\n",
      " [3 1 4 1 4 3]\n",
      " [0 3 4 0 1 3]\n",
      " [0 2 1 1 2 1]\n",
      " [4 0 1 3 2 3]]\n",
      "D_rs1_t : \n",
      "[[4 3 0 0 4]\n",
      " [2 1 3 2 0]\n",
      " [2 4 4 1 1]\n",
      " [0 1 0 1 3]\n",
      " [0 4 1 2 2]\n",
      " [2 3 3 1 3]]\n",
      "matmul1 : \n",
      "[[28 28 20  8 24]\n",
      " [28 52 32 18 36]\n",
      " [20 32 35 15 15]\n",
      " [ 8 18 15 11 11]\n",
      " [24 36 15 11 39]]\n"
     ]
    }
   ],
   "source": [
    "# reshape 1\n",
    "D_reshape1 = tf.reshape(D, (C, H*W))\n",
    "print(\"D_reshape1 : \\n{}\".format(D_reshape))\n",
    "\n",
    "D_rs1_t = tf.transpose(D_reshape1)\n",
    "print(\"D_rs1_t : \\n{}\".format(D_rs1_t))\n",
    "\n",
    "matmul1 = tf.matmul(D_reshape1, D_rs1_t)\n",
    "print(\"matmul1 : \\n{}\".format(matmul1))\n"
   ]
  },
  {
   "cell_type": "code",
   "execution_count": 23,
   "metadata": {},
   "outputs": [
    {
     "name": "stdout",
     "output_type": "stream",
     "text": [
      "D_reshape2 : \n",
      "[[4 2 2 0 0]\n",
      " [2 3 1 4 1]\n",
      " [4 3 0 3 4]\n",
      " [0 1 3 0 2]\n",
      " [1 1 2 1 4]\n",
      " [0 1 3 2 3]]\n",
      "D_rs2_t : \n",
      "[[4 2 4 0 1 0]\n",
      " [2 3 3 1 1 1]\n",
      " [2 1 0 3 2 3]\n",
      " [0 4 3 0 1 2]\n",
      " [0 1 4 2 4 3]]\n",
      "matmul2 : \n",
      "[[37 27 12 21 22]\n",
      " [27 25 15 24 24]\n",
      " [12 15 27 12 24]\n",
      " [21 24 12 30 26]\n",
      " [22 24 24 26 46]]\n"
     ]
    }
   ],
   "source": [
    "# reshape 2\n",
    "D_reshape2 = tf.reshape(D, (H*W, C))\n",
    "print(\"D_reshape2 : \\n{}\".format(D_reshape2))\n",
    "\n",
    "D_rs2_t = tf.transpose(D_reshape2)\n",
    "print(\"D_rs2_t : \\n{}\".format(D_rs2_t))\n",
    "\n",
    "matmul2 = tf.matmul(D_rs2_t, D_reshape2)\n",
    "print(\"matmul2 : \\n{}\".format(matmul2))"
   ]
  },
  {
   "cell_type": "code",
   "execution_count": null,
   "metadata": {},
   "outputs": [],
   "source": []
  }
 ],
 "metadata": {
  "kernelspec": {
   "display_name": "Python 3",
   "language": "python",
   "name": "python3"
  },
  "language_info": {
   "codemirror_mode": {
    "name": "ipython",
    "version": 3
   },
   "file_extension": ".py",
   "mimetype": "text/x-python",
   "name": "python",
   "nbconvert_exporter": "python",
   "pygments_lexer": "ipython3",
   "version": "3.7.4"
  }
 },
 "nbformat": 4,
 "nbformat_minor": 2
}
